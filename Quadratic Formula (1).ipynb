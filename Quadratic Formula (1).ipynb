{
 "cells": [
  {
   "cell_type": "code",
   "execution_count": 13,
   "metadata": {},
   "outputs": [
    {
     "name": "stdout",
     "output_type": "stream",
     "text": [
      "My machine precision is : 2.220446049250313e-16\n"
     ]
    },
    {
     "data": {
      "text/plain": [
       "(9.999894245993346e-07, -1000000.000001)"
      ]
     },
     "execution_count": 13,
     "metadata": {},
     "output_type": "execute_result"
    }
   ],
   "source": [
    "#This is a program to find the roots of a quadratic formula of f(x) by using the original formula/ Part A\n",
    "import numpy as np\n",
    "print(\"My machine precision is :\", np.finfo(float).eps) #Figuring out what the machine precision for my system is\n",
    "from math import sqrt\n",
    "\n",
    "def quadratic(a, b, c):\n",
    "        r = sqrt(b**2 - 4*a*c)\n",
    "        return ((-b + r)/(2*a), (-b -r)/(2*a))\n",
    "#This is a program to find the roots of a quadratic formula of f(x) my multiplying the quotient \n",
    "def quadratic2(a, b, c):\n",
    "        r = sqrt(b**2 - 4*a*c)\n",
    "        return (2*c/(-b - r), 2*c/(-b+r))\n",
    "quadratic(0.001,1000,-0.001)\n",
    "\n"
   ]
  },
  {
   "cell_type": "code",
   "execution_count": 1,
   "metadata": {},
   "outputs": [
    {
     "name": "stdout",
     "output_type": "stream",
     "text": [
      "My machine precision is : 2.220446049250313e-16\n",
      "what's wrong\n",
      "There are no roots for this equation, try to factorizing\n"
     ]
    }
   ],
   "source": [
    "#This program finds the root of a quadratic formula of f(x) and increasing the accuracy of the roots/ Part B \n",
    "import numpy as np\n",
    "print(\"My machine precision is :\", np.finfo(float).eps) #Figuring out what the machine precision for my system is\n",
    "from math import sqrt\n",
    "def quadratic(a,b,c):\n",
    "    r = sqrt(b**2 - 4*a*c)\n",
    "    print(\"what's wrong\")\n",
    "    if ((b > 0) and (b not> ((4*a*c)*10**(12)))):\n",
    "        return(((-b - r)/(2*a)), ((2*c)/(-b-r)))\n",
    "        print(\"what's happening?\")\n",
    "    elif ((b < 0) and (b > ((4*a*c)*10**(12)))):\n",
    "        return (((-b + r)/(2*a)), ((2*c)/(-b + r)))\n",
    "    elif (b == 0):\n",
    "        return sqrt((4*a*c)/(2*a))\n",
    "    elif (c == 0):\n",
    "        print(\"Factor more\")\n",
    "    elif ((a == 0) and (c < 0)):\n",
    "        print(\"The root is : \", c/b)\n",
    "    elif ((a == 0) and (c > 0)):\n",
    "        print(\"The root is : \", ((-c)/b))\n",
    "    else:\n",
    "        print(\"There are no roots for this equation, try to factorizing\")\n",
    "quadratic(1,5,6)"
   ]
  },
  {
   "cell_type": "code",
   "execution_count": 1,
   "metadata": {},
   "outputs": [
    {
     "name": "stdout",
     "output_type": "stream",
     "text": [
      "My machine precision is : 2.220446049250313e-16\n"
     ]
    },
    {
     "data": {
      "text/plain": [
       "(1000000.000001, -9.99999999999e-07)"
      ]
     },
     "execution_count": 1,
     "metadata": {},
     "output_type": "execute_result"
    }
   ],
   "source": [
    "#This program finds the root of a quadratic formula of f(x) and increasing the accuracy of the roots / Part C\n",
    "import numpy as np\n",
    "print(\"My machine precision is :\", np.finfo(float).eps) #Figuring out what the machine precision for my system is\n",
    "from math import sqrt\n",
    "def quadratic(a,b,c):\n",
    "    r = sqrt(b**2 - 4*a*c)\n",
    "    if (b > ((4*a*c)*10**(12))):\n",
    "        if (b > 0):\n",
    "            return(((-b - r)/(2*a)), ((2*c)/(-b - r)))\n",
    "        elif (b < 0):\n",
    "            return (((-b + r)/(2*a)), ((2*c)/(-b + r)))\n",
    "    elif (b < ((4*a*c)*10**(12))):\n",
    "        return (((-b - r)/(2*a)), ((-b + r)/(2*a)))\n",
    "    elif (b == 0):\n",
    "        return sqrt((4*a*c)/(2*a))\n",
    "    elif (c == 0):\n",
    "        print(\"Factor more\")\n",
    "    elif ((a == 0) and (c < 0)):\n",
    "        print(\"The root is : \", c/b)\n",
    "    elif ((a == 0) and (c > 0)):\n",
    "        print(\"The root is : \", ((-c)/b))\n",
    "    else:\n",
    "        print(\"There are no roots for this equation, try to factorizing\")\n",
    "quadratic(0.001,-1000,-0.001)"
   ]
  },
  {
   "cell_type": "code",
   "execution_count": 1,
   "metadata": {},
   "outputs": [
    {
     "name": "stdout",
     "output_type": "stream",
     "text": [
      "Enter your desired atomic mass:58\n",
      "Enter your desired atomic number:28\n",
      "I got this far\n",
      "Binding Energy : 490 in MeV Binding Energy per nucleon : 8.448275862068966 in MeV\n"
     ]
    }
   ],
   "source": [
    "#Exercise 2 from HW #5 from Jacob Tzoka\n",
    "#First we need to declare the value of the first five coefficients\n",
    "a1 = 15.67\n",
    "a2 = 17.23\n",
    "a3 = 0.75\n",
    "a4 = 93.2\n",
    "#We need to find the formula to calculate the binding energy of an element and define the values of a5\n",
    "def semi_empirical(A,Z):\n",
    "    if (not(A % 2 == 0)):          #A is and odd number\n",
    "        a5 = 0\n",
    "    elif ((A % 2 == 0) and (Z % 2 == 0)):        #A and Z are both even numbers\n",
    "        a5 = 12\n",
    "    elif ((A % 2 == 0) and (not(Z % 2 == 0))):   #A is an even number and Z is an odd number\n",
    "          a5 = -12\n",
    "    else:\n",
    "        print(\"Error: llegal input calling the police\")    #If none is satisfied then print\n",
    "    print(\"I got this far\") #De-bugging print line\n",
    "    B = int(((a1*A)-(a2*(A**(2/3)))-(a3*((Z**2)/(A**(1/3)))) - (a4*(((A-2*Z)**2)/A)) - (a5/(A**(1/2)))))\n",
    "    return [B, B/A]\n",
    "\n",
    "atomic_mass = int(input(\"Enter your desired atomic mass:\"))\n",
    "atomic_number = int(input(\"Enter your desired atomic number:\"))\n",
    "\n",
    "answer = semi_empirical (atomic_mass, atomic_number)\n",
    "\n",
    "print(\"Binding Energy :\", answer[0], \"in MeV\", \"Binding Energy per nucleon :\", answer[1],\"in MeV\")"
   ]
  },
  {
   "cell_type": "code",
   "execution_count": null,
   "metadata": {},
   "outputs": [],
   "source": []
  }
 ],
 "metadata": {
  "kernelspec": {
   "display_name": "Python 3",
   "language": "python",
   "name": "python3"
  },
  "language_info": {
   "codemirror_mode": {
    "name": "ipython",
    "version": 3
   },
   "file_extension": ".py",
   "mimetype": "text/x-python",
   "name": "python",
   "nbconvert_exporter": "python",
   "pygments_lexer": "ipython3",
   "version": "3.7.3"
  }
 },
 "nbformat": 4,
 "nbformat_minor": 2
}
