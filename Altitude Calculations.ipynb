{
 "cells": [
  {
   "cell_type": "code",
   "execution_count": 20,
   "metadata": {},
   "outputs": [
    {
     "name": "stdout",
     "output_type": "stream",
     "text": [
      "Tell the period to the truste calculator you moron:90\n",
      "Here you go don't waste the nations money: 279.32162537285967 km\n"
     ]
    }
   ],
   "source": [
    "#Altitude in Km of a satelite\n",
    "import numpy as np \n",
    "T = int(input(\"Tell the period to the truste calculator you moron:\"))\n",
    "G = 6.67*(10**-11)\n",
    "M = 5.97*(10**24)\n",
    "R = 6371*(10**3)\n",
    "def height (P):\n",
    "    return (((G*M*((T*60)**2))/(4*(np.math.pi**2)))**(1/3))-R \n",
    "\n",
    "print(\"Here you go don't waste the nations money:\",height(T)/1000, \"km\")"
   ]
  },
  {
   "cell_type": "code",
   "execution_count": 21,
   "metadata": {},
   "outputs": [
    {
     "name": "stdout",
     "output_type": "stream",
     "text": [
      "Tell the period to the truste calculator you moron:45\n",
      "Here you go don't waste the nations money: 57837.14933510753 km\n"
     ]
    }
   ],
   "source": [
    "#Altitude in Km of a satelite\n",
    "import numpy as np \n",
    "T = int(input(\"Tell the period to the truste calculator you moron:\"))\n",
    "G = 6.67*(10**-11)\n",
    "M = 5.97*(10**24)\n",
    "R = 6371*(10**3)\n",
    "def height (P):\n",
    "    return (((G*M*((T*60*60)**2))/(4*(np.math.pi**2)))**(1/3))-R \n",
    "\n",
    "print(\"Here you go don't waste the nations money:\",height(T)/1000, \"km\")"
   ]
  },
  {
   "cell_type": "code",
   "execution_count": null,
   "metadata": {},
   "outputs": [],
   "source": []
  }
 ],
 "metadata": {
  "kernelspec": {
   "display_name": "Python 3",
   "language": "python",
   "name": "python3"
  },
  "language_info": {
   "codemirror_mode": {
    "name": "ipython",
    "version": 3
   },
   "file_extension": ".py",
   "mimetype": "text/x-python",
   "name": "python",
   "nbconvert_exporter": "python",
   "pygments_lexer": "ipython3",
   "version": "3.7.3"
  }
 },
 "nbformat": 4,
 "nbformat_minor": 2
}
