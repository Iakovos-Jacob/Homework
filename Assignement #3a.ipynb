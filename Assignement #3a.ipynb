{
 "cells": [
  {
   "cell_type": "code",
   "execution_count": 3,
   "metadata": {},
   "outputs": [
    {
     "name": "stdout",
     "output_type": "stream",
     "text": [
      "-1.0\n",
      "-4.539786870243441e-05\n",
      "-2.061060046209063e-09\n",
      "-9.357198133414642e-14\n",
      "-4.248161380306793e-18\n",
      "-1.9286622828562893e-22\n",
      "-8.756113217722928e-27\n",
      "-3.9752692507698635e-31\n",
      "-1.8047694477191755e-35\n",
      "-8.19364061639291e-40\n",
      "-3.7199070848328135e-44\n"
     ]
    }
   ],
   "source": [
    "import numpy as np\n",
    "sn=0\n",
    "x=0\n",
    "for x in range(0,101,10):\n",
    "    for n in range(1000):\n",
    "        sn += (-((x**n)/(np.math.factorial(n))))\n",
    "        r = (1/sn)\n",
    "    print(r)\n"
   ]
  },
  {
   "cell_type": "code",
   "execution_count": 5,
   "metadata": {},
   "outputs": [
    {
     "name": "stdout",
     "output_type": "stream",
     "text": [
      "1.0\n",
      "4.5399929762484854e-05\n",
      "2.061153622438558e-09\n",
      "9.357622968840175e-14\n",
      "4.248354255291589e-18\n",
      "1.9287498479639178e-22\n",
      "8.75651076269652e-27\n",
      "3.975449735908647e-31\n",
      "1.8048513878454153e-35\n",
      "8.194012623990515e-40\n",
      "3.720075976020836e-44\n"
     ]
    }
   ],
   "source": [
    "\n",
    "for x in range(0, 101, 10):\n",
    "    np.math.exp(-x)\n",
    "    print(np.math.exp(-x))"
   ]
  },
  {
   "cell_type": "code",
   "execution_count": 7,
   "metadata": {},
   "outputs": [
    {
     "name": "stdout",
     "output_type": "stream",
     "text": [
      "-2.688239187686441e+43\n",
      "-2.688239187686441e+43\n",
      "-2.688239187686441e+43\n",
      "-2.688239187686441e+43\n",
      "-2.688239187686441e+43\n",
      "-2.688239187686441e+43\n",
      "-2.688239187686441e+43\n",
      "-2.688239187686441e+43\n",
      "-2.6882391876864407e+43\n",
      "-2.688239187686439e+43\n",
      "-2.688239187686438e+43\n"
     ]
    }
   ],
   "source": [
    "for x in range(0, 101, 10):\n",
    "    for n in range (1000):\n",
    "        sn += (((-1)**n)*((x**n)/(np.math.factorial(n))))\n",
    "    print (sn)"
   ]
  },
  {
   "cell_type": "code",
   "execution_count": 2,
   "metadata": {
    "scrolled": false
   },
   "outputs": [
    {
     "name": "stdout",
     "output_type": "stream",
     "text": [
      "0 1.0\n",
      "10 4.539992967040021e-05\n",
      "20 6.147561828914626e-09\n",
      "30 6.1030424788918156e-06\n",
      "40 0.3116951588217358\n",
      "50 2041.8329628976246\n",
      "60 722745700.9303185\n",
      "70 4594081207253.4\n",
      "80 2.4508201170456323e+17\n",
      "90 -5.865799310261735e+21\n",
      "100 8.144652745098073e+25\n"
     ]
    }
   ],
   "source": [
    "\n",
    "def sn(n,x):\n",
    "    if (n == 0):\n",
    "        return 1\n",
    "    else:\n",
    "        return sn((n-1),x)*(-1*(x/n))\n",
    "for y in range(0, 101, 10):\n",
    "    sn1 = 0\n",
    "    for k in range (1000):\n",
    "        sn1 += sn(k,y)\n",
    "    print(y,sn1)"
   ]
  },
  {
   "cell_type": "code",
   "execution_count": null,
   "metadata": {},
   "outputs": [],
   "source": []
  },
  {
   "cell_type": "code",
   "execution_count": null,
   "metadata": {},
   "outputs": [],
   "source": []
  }
 ],
 "metadata": {
  "kernelspec": {
   "display_name": "Python 3",
   "language": "python",
   "name": "python3"
  },
  "language_info": {
   "codemirror_mode": {
    "name": "ipython",
    "version": 3
   },
   "file_extension": ".py",
   "mimetype": "text/x-python",
   "name": "python",
   "nbconvert_exporter": "python",
   "pygments_lexer": "ipython3",
   "version": "3.7.3"
  }
 },
 "nbformat": 4,
 "nbformat_minor": 2
}
