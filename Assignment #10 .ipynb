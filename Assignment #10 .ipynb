{
 "cells": [
  {
   "cell_type": "code",
   "execution_count": 2,
   "metadata": {
    "scrolled": true
   },
   "outputs": [],
   "source": [
    "import random\n",
    "import numpy as np\n",
    "nb_simulations = 10001\n",
    "win_noswitch = 0\n",
    "losenoswitch = 0\n",
    "loseswitch = 0 \n",
    "win_switch = 0\n",
    "noswitch = 0\n",
    "switch = 0\n",
    "\n",
    "for i in range(nb_simulations):\n",
    "    l = [1,2,3]\n",
    "    # select randomly behind which door is the car \n",
    "\n",
    "    winning_door = np.random.choice(l)\n",
    "\n",
    "    # player pick a door \n",
    "\n",
    "    player_first_door = np.random.choice(l)\n",
    "\n",
    "    # Game host open a door with a goat behind \n",
    "\n",
    "    l.remove(winning_door)\n",
    "    if player_first_door != winning_door : \n",
    "        l.remove(player_first_door)\n",
    "\n",
    "    game_host_opened = random.choice(l)\n",
    "    \n",
    "    if (random.random() > 0.5):\n",
    "        l = [1,2,3]\n",
    "        l.remove(game_host_opened)\n",
    "        l.remove(player_first_door)\n",
    "        player_new_door = l[0]\n",
    "        if (player_new_door == winning_door) :\n",
    "            win_switch+= 1\n",
    "            switch +=1\n",
    "        else:\n",
    "            loseswitch += 1\n",
    "            switch += 1\n",
    "    \n",
    "    else:\n",
    "        if player_first_door == winning_door :\n",
    "            win_noswitch += 1\n",
    "            noswitch += 1\n",
    "        else:\n",
    "            losenoswitch += 1\n",
    "            noswitch += 1"
   ]
  },
  {
   "cell_type": "code",
   "execution_count": 3,
   "metadata": {},
   "outputs": [
    {
     "name": "stdout",
     "output_type": "stream",
     "text": [
      "This is the percentage when switching 65.59053539201925 %\n",
      "This is the percentage when not switching 33.86517750299162 %\n"
     ]
    }
   ],
   "source": [
    "percentage_switch = (((win_switch)/(switch))*100)  #percentage won by changing \n",
    "percentage_noswitch = (((win_noswitch)/noswitch)*100) #percentage won by not changing\n",
    "print(\"This is the percentage when switching\", percentage_switch, \"%\")\n",
    "print(\"This is the percentage when not switching\", percentage_noswitch, \"%\")"
   ]
  },
  {
   "cell_type": "code",
   "execution_count": 6,
   "metadata": {},
   "outputs": [
    {
     "name": "stdout",
     "output_type": "stream",
     "text": [
      "518 483 184 118\n"
     ]
    }
   ],
   "source": [
    "#THis is the Monty Hall problem when it involves 4 doors\n",
    "win_switch = 0 \n",
    "lose_switch = 0 \n",
    "win_noswitch = 0\n",
    "lose_noswitch = 0\n",
    "switched = 0\n",
    "stayed = 0 \n",
    "\n",
    "for x in range(0,1001):\n",
    "    doors = ['A', 'B', 'C', 'D']\n",
    "    prize = np.random.choice(doors)\n",
    "    user = np.random.choice(doors)\n",
    "    switch = random.random()\n",
    "    \n",
    " \n",
    "    if ((user == prize ) & (switch < 0.5)):#When you lose and switched\n",
    "        switched += 1\n",
    "    elif ((switch >= 0.5) & (prize == user)): #When you stayed and won\n",
    "        stayed += 1\n",
    "        win_noswitch +=1\n",
    "    elif (switch >= 0.5): #When you stayed and lost \n",
    "        stayed += 1\n",
    "    elif(switch < 0.5): #Now there is a 50% chance of u guessing right \n",
    "        if (random.random() < 0.5): # Now one of the doors has the prize and the other one has the goat\n",
    "            win_switch += 1\n",
    "            switched += 1\n",
    "        else:\n",
    "            switched += 1\n",
    "print(stayed,switched,win_switch,win_noswitch)"
   ]
  },
  {
   "cell_type": "code",
   "execution_count": 7,
   "metadata": {},
   "outputs": [
    {
     "name": "stdout",
     "output_type": "stream",
     "text": [
      "This is the percentage when switching 38.095238095238095 %\n",
      "This is the percentage when not switching 22.779922779922778 %\n"
     ]
    }
   ],
   "source": [
    "percentage_switch = ((win_switch)/switched)*100  #percentage won by changing \n",
    "percentage_noswitch = ((win_noswitch)/stayed)*100 #percentage won by not changing\n",
    "print(\"This is the percentage when switching\", percentage_switch, \"%\")\n",
    "print(\"This is the percentage when not switching\", percentage_noswitch, \"%\")"
   ]
  },
  {
   "cell_type": "code",
   "execution_count": null,
   "metadata": {},
   "outputs": [],
   "source": []
  },
  {
   "cell_type": "code",
   "execution_count": null,
   "metadata": {},
   "outputs": [],
   "source": []
  }
 ],
 "metadata": {
  "kernelspec": {
   "display_name": "Python 3",
   "language": "python",
   "name": "python3"
  },
  "language_info": {
   "codemirror_mode": {
    "name": "ipython",
    "version": 3
   },
   "file_extension": ".py",
   "mimetype": "text/x-python",
   "name": "python",
   "nbconvert_exporter": "python",
   "pygments_lexer": "ipython3",
   "version": "3.7.4"
  }
 },
 "nbformat": 4,
 "nbformat_minor": 2
}
